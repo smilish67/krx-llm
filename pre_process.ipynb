{
 "cells": [
  {
   "cell_type": "code",
   "execution_count": null,
   "metadata": {},
   "outputs": [],
   "source": []
  },
  {
   "cell_type": "code",
   "execution_count": 2,
   "metadata": {},
   "outputs": [],
   "source": [
    "import pandas as pd\n",
    "from selenium import webdriver\n",
    "from selenium.webdriver.common.by import By\n",
    "from selenium.webdriver.chrome.service import Service\n",
    "from webdriver_manager.chrome import ChromeDriverManager\n",
    "from bs4 import BeautifulSoup\n",
    "import time\n",
    "import re"
   ]
  },
  {
   "cell_type": "code",
   "execution_count": 3,
   "metadata": {},
   "outputs": [],
   "source": [
    "import json\n",
    "with open('feed.json', 'r', encoding='utf-8') as f:\n",
    "    feed = json.load(f)"
   ]
  },
  {
   "cell_type": "code",
   "execution_count": 4,
   "metadata": {},
   "outputs": [],
   "source": [
    "ds = pd.DataFrame(feed.items(), columns=['code', 'feed'])"
   ]
  },
  {
   "cell_type": "code",
   "execution_count": 5,
   "metadata": {},
   "outputs": [
    {
     "data": {
      "text/html": [
       "<div>\n",
       "<style scoped>\n",
       "    .dataframe tbody tr th:only-of-type {\n",
       "        vertical-align: middle;\n",
       "    }\n",
       "\n",
       "    .dataframe tbody tr th {\n",
       "        vertical-align: top;\n",
       "    }\n",
       "\n",
       "    .dataframe thead th {\n",
       "        text-align: right;\n",
       "    }\n",
       "</style>\n",
       "<table border=\"1\" class=\"dataframe\">\n",
       "  <thead>\n",
       "    <tr style=\"text-align: right;\">\n",
       "      <th></th>\n",
       "      <th>code</th>\n",
       "      <th>feed</th>\n",
       "    </tr>\n",
       "  </thead>\n",
       "  <tbody>\n",
       "    <tr>\n",
       "      <th>0</th>\n",
       "      <td>044990</td>\n",
       "      <td>II. 사업의 내용\\n1. 사업의 개요\\n1. 사업의 개요\\n당사는 2000년 이방...</td>\n",
       "    </tr>\n",
       "    <tr>\n",
       "      <th>1</th>\n",
       "      <td>460470</td>\n",
       "      <td>II. 사업의 내용\\n1. 사업의 개요\\n1. 사업의 개요\\n당사의 사업의 개요에 ...</td>\n",
       "    </tr>\n",
       "    <tr>\n",
       "      <th>2</th>\n",
       "      <td>460940</td>\n",
       "      <td>II. 사업의 내용\\n1. 사업의 개요\\n1. 사업의 개요\\n당사는1997년 창사이...</td>\n",
       "    </tr>\n",
       "    <tr>\n",
       "      <th>3</th>\n",
       "      <td>373110</td>\n",
       "      <td>II. 사업의 내용\\n1. 사업의 개요\\n1. 사업의 개요\\n당사는 첨단바이오의약품...</td>\n",
       "    </tr>\n",
       "    <tr>\n",
       "      <th>4</th>\n",
       "      <td>450330</td>\n",
       "      <td>II. 사업의 내용\\n1. 사업의 개요\\n1. 사업의 개요\\n당사는2008년 설립된...</td>\n",
       "    </tr>\n",
       "  </tbody>\n",
       "</table>\n",
       "</div>"
      ],
      "text/plain": [
       "     code                                               feed\n",
       "0  044990  II. 사업의 내용\\n1. 사업의 개요\\n1. 사업의 개요\\n당사는 2000년 이방...\n",
       "1  460470  II. 사업의 내용\\n1. 사업의 개요\\n1. 사업의 개요\\n당사의 사업의 개요에 ...\n",
       "2  460940  II. 사업의 내용\\n1. 사업의 개요\\n1. 사업의 개요\\n당사는1997년 창사이...\n",
       "3  373110  II. 사업의 내용\\n1. 사업의 개요\\n1. 사업의 개요\\n당사는 첨단바이오의약품...\n",
       "4  450330  II. 사업의 내용\\n1. 사업의 개요\\n1. 사업의 개요\\n당사는2008년 설립된..."
      ]
     },
     "execution_count": 5,
     "metadata": {},
     "output_type": "execute_result"
    }
   ],
   "source": [
    "ds.head()"
   ]
  },
  {
   "cell_type": "code",
   "execution_count": null,
   "metadata": {},
   "outputs": [],
   "source": []
  }
 ],
 "metadata": {
  "kernelspec": {
   "display_name": ".venv",
   "language": "python",
   "name": "python3"
  },
  "language_info": {
   "codemirror_mode": {
    "name": "ipython",
    "version": 3
   },
   "file_extension": ".py",
   "mimetype": "text/x-python",
   "name": "python",
   "nbconvert_exporter": "python",
   "pygments_lexer": "ipython3",
   "version": "3.11.9"
  }
 },
 "nbformat": 4,
 "nbformat_minor": 2
}
