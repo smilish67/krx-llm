{
 "cells": [
  {
   "cell_type": "code",
   "execution_count": null,
   "metadata": {},
   "outputs": [],
   "source": []
  },
  {
   "cell_type": "code",
   "execution_count": 1,
   "metadata": {},
   "outputs": [],
   "source": [
    "import pandas as pd\n",
    "from selenium import webdriver\n",
    "from selenium.webdriver.common.by import By\n",
    "from selenium.webdriver.chrome.service import Service\n",
    "from webdriver_manager.chrome import ChromeDriverManager\n",
    "from bs4 import BeautifulSoup\n",
    "import time\n",
    "import re"
   ]
  },
  {
   "cell_type": "code",
   "execution_count": 2,
   "metadata": {},
   "outputs": [],
   "source": [
    "import json\n",
    "#import csv to pd\n",
    "data = json.load(open('final2.json', 'r', encoding='utf-8'))\n",
    "\n",
    "df = pd.DataFrame(data)"
   ]
  },
  {
   "cell_type": "code",
   "execution_count": 3,
   "metadata": {},
   "outputs": [
    {
     "name": "stderr",
     "output_type": "stream",
     "text": [
      "C:\\Users\\Jake\\AppData\\Local\\Temp\\ipykernel_6692\\2984923568.py:1: FutureWarning: Series.__getitem__ treating keys as positions is deprecated. In a future version, integer keys will always be treated as labels (consistent with DataFrame behavior). To access a value by position, use `ser.iloc[pos]`\n",
      "  df['table'][0][0]\n"
     ]
    },
    {
     "data": {
      "text/plain": [
       "'<table>\\n<colgroup>\\n<col>\\n<col>\\n<col>\\n<col>\\n</colgroup>\\n<thead>\\n<tr>\\n<th>매출유형</th>\\n<th>품 목</th>\\n<th>매출액</th>\\n<th>비 중(%)</th>\\n</tr>\\n</thead>\\n<tbody>\\n<tr>\\n<td>방송공연</td>\\n<td>방송출연, 콘서트, 각종행사등</td>\\n<td>5,375</td>\\n<td>46.42</td>\\n</tr>\\n<tr>\\n<td>공연,기획</td>\\n<td>당사, 타사의 콘서트의 기획,진행등</td>\\n<td>6,189</td>\\n<td>53.45</td>\\n</tr>\\n<tr>\\n<td>기 타</td>\\n<td>영상제작등</td>\\n<td>15</td>\\n<td>0.13</td>\\n</tr>\\n<tr>\\n<td>합  계</td>\\n<td>11,579</td>\\n<td>100</td>\\n</tr>\\n</tbody>\\n</table>\\n'"
      ]
     },
     "execution_count": 3,
     "metadata": {},
     "output_type": "execute_result"
    }
   ],
   "source": [
    "df['table'][0][0]"
   ]
  },
  {
   "cell_type": "code",
   "execution_count": 10,
   "metadata": {},
   "outputs": [
    {
     "name": "stderr",
     "output_type": "stream",
     "text": [
      "C:\\Users\\Jake\\AppData\\Local\\Temp\\ipykernel_6692\\1477104933.py:11: FutureWarning: Series.__getitem__ treating keys as positions is deprecated. In a future version, integer keys will always be treated as labels (consistent with DataFrame behavior). To access a value by position, use `ser.iloc[pos]`\n",
      "  df['table'][i][j] = table\n",
      "C:\\Users\\Jake\\AppData\\Local\\Temp\\ipykernel_6692\\1477104933.py:4: MarkupResemblesLocatorWarning: The input looks more like a filename than markup. You may want to open this file and pass the filehandle into Beautiful Soup.\n",
      "  soup = BeautifulSoup(table, 'html.parser')\n"
     ]
    }
   ],
   "source": [
    "for i, tables in enumerate(df['table']):\n",
    "    # Parse the HTML content\n",
    "    for j, table in enumerate(tables):\n",
    "        soup = BeautifulSoup(table, 'html.parser')\n",
    "        \n",
    "        # Find all <tr> and <td> tags and remove child tags while keeping their content\n",
    "        for tag in soup.find_all(['tr', 'td']):\n",
    "            for child in tag.find_all(['span', 'p', 'div']):\n",
    "                child.unwrap()  # Remove the tag but keep the content\n",
    "        table = str(soup)\n",
    "        df['table'][i][j] = table\n",
    "    # Replace the original table in the DataFrame with the modified HTML"
   ]
  },
  {
   "cell_type": "code",
   "execution_count": 11,
   "metadata": {},
   "outputs": [
    {
     "name": "stderr",
     "output_type": "stream",
     "text": [
      "C:\\Users\\Jake\\AppData\\Local\\Temp\\ipykernel_6692\\2433996608.py:1: FutureWarning: Series.__getitem__ treating keys as positions is deprecated. In a future version, integer keys will always be treated as labels (consistent with DataFrame behavior). To access a value by position, use `ser.iloc[pos]`\n",
      "  df['table'][2][0]\n"
     ]
    },
    {
     "data": {
      "text/plain": [
       "'<table>\\n<colgroup>\\n<col/>\\n<col/>\\n</colgroup>\\n<tbody>\\n<tr>\\n<td>\\n용 어\\n\\n<br/>\\n\\n</td>\\n<td>\\n설 명\\n\\n<br/>\\n\\n</td>\\n</tr>\\n<tr>\\n<td>\\n&lt;\\n제품 관련&gt;\\n\\n<br/>\\n\\n</td>\\n</tr>\\n<tr>\\n<td>\\n올인원 생체현미경\\n\\n<br/>\\n\\n</td>\\n<td>\\n기존 생체현미경 솔루션 한계를 극복하여 고품질의 생체현미경 영상을 살아있는 동물 내부의 다양한 장기와 조직에서 자유롭게 획득할 수 있도록 요구되는 핵심 요소기술과 필수적인 기능들이 모두 통합된 생체현미경\\n<br/>\\n\\n</td>\\n</tr>\\n<tr>\\n<td>\\nIVM-C\\n<br/>\\n\\n</td>\\n<td>\\n제품명으로 당사의1세대 공초점 현미경\\n<br/>\\n\\n</td>\\n</tr>\\n<tr>\\n<td>\\nIVM-C2\\n<br/>\\n\\n</td>\\n<td>\\n제품명으로 당사의2세대 공초점 현미경\\n<br/>\\n\\n</td>\\n</tr>\\n<tr>\\n<td>\\nIVM-C3\\n<br/>\\n\\n</td>\\n<td>\\n제품명으로 당사의3세대 공초점 현미경\\n<br/>\\n\\n</td>\\n</tr>\\n<tr>\\n<td>\\nIVM-CM\\n<br/>\\n\\n</td>\\n<td>\\n제품명으로 당사의1세대 공초점 이광자 현미경\\n<br/>\\n\\n</td>\\n</tr>\\n<tr>\\n<td>\\nIVM-CM2\\n<br/>\\n\\n</td>\\n<td>\\n제품명으로 당사의2세대 공초점 이광자 현미경\\n<br/>\\n\\n</td>\\n</tr>\\n<tr>\\n<td>\\nIVM-CM3\\n<br/>\\n\\n</td>\\n<td>\\n제품명으로 당사의3세대 공초점 이광자 현미경\\n<br/>\\n\\n</td>\\n</tr>\\n<tr>\\n<td>\\nIVM-MS\\n<br/>\\n\\n</td>\\n<td>\\n제품명으로 당사의1세대 이광자 현미경(레이저 파장 비가변형)\\n<br/>\\n\\n</td>\\n</tr>\\n<tr>\\n<td>\\nIVM-MS2\\n<br/>\\n\\n</td>\\n<td>\\n제품명으로 당사의2세대 이광자 현미경(레이저 파장 비가변형)\\n<br/>\\n\\n</td>\\n</tr>\\n<tr>\\n<td>\\nIVM-MS3\\n<br/>\\n\\n</td>\\n<td>\\n제품명으로 당사의3세대 이광자 현미경(레이저 파장 비가변형)\\n<br/>\\n\\n</td>\\n</tr>\\n<tr>\\n<td>\\nIVM-M2\\n<br/>\\n\\n</td>\\n<td>\\n제품명으로 당사의2세대 이광자 현미경(레이저 파장 가변형)\\n<br/>\\n\\n</td>\\n</tr>\\n<tr>\\n<td>\\nIVM-M3\\n<br/>\\n\\n</td>\\n<td>\\n제품명으로 당사의3세대 이광자 현미경(레이저 파장 가변형)\\n<br/>\\n\\n</td>\\n</tr>\\n<tr>\\n<td>\\nIVM-TMS\\n<br/>\\n\\n</td>\\n<td>\\nIVM-Tissue motion stabilizer(생체조직 움직임 안정화 시스템)의 약자로 다양한Imaging Window KIT 와 함께 사용하여 살아있는 동물 내부 장기에서 생체현미경 영상을 촬영하는 동안 영상획득 부위 조직의 움직임을 감소시키는 이미징 악세서리\\n<br/>\\n\\n</td>\\n</tr>\\n<tr>\\n<td>\\nCRO\\n서비스\\n\\n<br/>\\n\\n</td>\\n<td>\\n살아있는 다양한 동물모델에서 생체 내부의 세포수준 영상 획득 및 주입된 약물의 동태 등을 당사의 생체현미경 기술술을 이용하여 고해당도3차원 영상 데이터를 효율적이고 정밀하게 분석하여 정량화 결과를 제공하는 서비스\\n<br/>\\n\\n</td>\\n</tr>\\n<tr>\\n<td>\\nCRO\\n서비스실험-분석 원스탑토털 솔루션\\n\\n<br/>\\n\\n</td>\\n<td>\\n실험/분석 컨설팅-&gt;테스트 실험-&gt;동물 모델 제작 및 본실험-&gt;영상 프로세싱 및 분석까지 통합CRO 서비스\\n<br/>\\n\\n</td>\\n</tr>\\n<tr>\\n<td>\\nImaging Window KIT\\n<br/>\\n\\n(이미징 윈도우 키트)\\n\\n<br/>\\n\\n</td>\\n<td>\\n자사의 생체현미경과 일체형으로 사용할 수 있는 것으로 살아있는 생체 내부의 다양한 장기 및 조직, 질환별로 최적화 되어있어 사용자 개개인의 역량에 의존하지 않고 표준화된 실험 방식으로 단일 개체의 다양한 생체 내 장기와 조직들을 장기간 동안 생존을 유지하며 반복적인 생체현미경 영상 획득이 가능하도록 하는 이미징 악세서리\\n<br/>\\n\\n</td>\\n</tr>\\n<tr>\\n<td>\\nDorsal Skinfold Chamber KIT\\n<br/>\\n\\n(피부조직 챔버 키트)\\n\\n<br/>\\n\\n</td>\\n<td>\\n피부에 이식되어 혈관이나 암 관련 연구에 활용성이 높은 이미징 챔버로서 기존 한계성을 개선하여 암 동물모델의 호흡에 영향을 주지 않고, 동물의 피하조직 탄성도 및 마우스 종에 관련 없이 적용 가능한 개량형 이미징 악세서리\\n<br/>\\n\\n</td>\\n</tr>\\n<tr>\\n<td>\\nHeart Imaging Chamber KIT\\n<br/>\\n\\n(심장 이미징 챔버 키트)\\n\\n<br/>\\n\\n</td>\\n<td>\\n자사의Tissue motion stabilizer와 함께 사용되어 조직과 커버글라스 사이의 내부공간의 음압을 유지시켜 조직의 움직임을 막도록 제작된 이미징 악세서리\\n<br/>\\n\\n</td>\\n</tr>\\n<tr>\\n<td>\\nLung Imaging Chamber KIT\\n<br/>\\n\\n(\\n폐 이미징 챔버 키트)\\n\\n<br/>\\n\\n</td>\\n<td>\\nMicro-Suction기술을 기반으로 설계된 챔버와Tissue motion stabilizer를 함께 사용하여, 조직과 커버글라스 사이의 내부공간의 음압을 유지하여 조직의 움직임을 막도록 제작된 이미징 악세서리\\n<br/>\\n\\n</td>\\n</tr>\\n<tr>\\n<td>\\nCranial Imaging Chamber KIT\\n<br/>\\n\\n(\\n두개골 이미징 챔버 키트)\\n\\n<br/>\\n\\n</td>\\n<td>\\n뇌를 영상화 하기 위하여 개발된KIT로서 두개골을 제거하는 도구, 생체윈도우를 이식하고 고정하는 도구, 이식·고정형 생체윈도우, 마우스의 자세를 고정하는 도구 등을 하나의KIT 개발하여 자사 생체현미경 재물대와 결합이 되어 별도의 조정 없이 누구나 동일한 조건으로 최적화된 뇌영상화가 가능하도록 제작된 이미징 악세서리\\n<br/>\\n\\n</td>\\n</tr>\\n<tr>\\n<td>\\nAbdominal Imaging Window KIT\\n<br/>\\n\\n(\\n복강 이미징 윈도우 키트)\\n\\n<br/>\\n\\n</td>\\n<td>\\n복강내에 있는 대부분의 장기에 적용가능 하면서 암세포의 생착 및 성장, 혈관 변화를 관찰하기에 충분한 크기이면서 챔버의 크기는 복강에 영향을 주지 않게끔 소형으로 제작하여 수술적 처치를 최소화할 수 있도록 개발된 이미징 악세서리\\n<br/>\\n\\n</td>\\n</tr>\\n<tr>\\n<td>\\nMammary Imaging Window KIT\\n<br/>\\n\\n(\\n유방 이미징 윈도우 키트)\\n\\n<br/>\\n\\n</td>\\n<td>\\n챔버 이식 후에도 암 동물모델 호흡과 활동에 영향을 주지 않는 유방암 세포의 생체영상화를 위한KIT로 암세포 생착 및 성장, 혈관 변화를 관찰하기에 충분한 크기인 반면 전체적인 챔버 크기는 소형으로 제작하여 수술적 처치를 최소화할 수 있도록 고안된 이미징 악세서리\\n<br/>\\n\\n</td>\\n</tr>\\n<tr>\\n<td>\\nPancreas Imaging Window KIT\\n<br/>\\n\\n(\\n췌장 이미징 윈도우 키트)\\n\\n<br/>\\n\\n</td>\\n<td>\\n췌장 영상화를 위한 최적의 생체윈도우와 전체 챔버의 크기를 설정한 후 췌장과 비장의 위치를 고정할 수 있는 구조물을 추가 설계하여 호흡과 주변 소화기관의 연동운동에 의한 조직의 움직임을 최소한으로 줄인 췌장의 장기 생체영상화에 적합한 이미징 악세서리\\n<br/>\\n\\n</td>\\n</tr>\\n<tr>\\n<td>\\nUterus Imaging Window KIT\\n<br/>\\n\\n(\\n자궁 이미징 윈도우 키트)\\n\\n<br/>\\n\\n</td>\\n<td>\\nMicro-Suction 기술을 기반으로 챔버를 설계 및 제작하여Tissue motion stabilizer 와 함께 사용되며,마우스의 호흡, 심장박동과 조직의 형태학적 구조로 인해 매우 심하게 움직이며 미끌미끌한 특성을 지닌 자궁 조직에 최적화된KIT로서 영상화 위치와 초점이 흔들리는 것을 막아 안정된 현미경 영상을 획득할 수 있는 이미징 악세서리\\n<br/>\\n\\n</td>\\n</tr>\\n<tr>\\n<td>\\n생체내 세포별 형광표지 키트\\n\\n<br/>\\n\\n</td>\\n<td>\\n다양한 종류의 세포들을 생체 내에서 특이적으로 표지할 수 있는KIT로써 형광-결합체와 이를 생체내로 주입하기 위한 구성물로 구성된 이미징 악세서리\\n<br/>\\n\\n</td>\\n</tr>\\n<tr>\\n<td>\\nEndoscope Imaging KIT\\n<br/>\\n\\n(\\n내시경 이미징 키트)\\n\\n<br/>\\n\\n</td>\\n<td>\\n생체 조직 내부를 최소 침습적으로 접근함과 동시에 관찰하고자 하는 조직 부위에서 안정적인 영상화를 달성할 수 있는 이미징 악세서리\\n<br/>\\n\\n</td>\\n</tr>\\n<tr>\\n<td>\\nAI\\n조직분석 의료기기\\n\\n<br/>\\n\\n</td>\\n<td>\\n수술 중인 암환자로부터 고해상도 생체영상을 신속하게 획득하고 이로부터 인공지능 딥러닝 암진단 모델로 환자조직 내 미세한 암조직까지 정확하게 감지할 수 있는 인공지능 기반 의료기기\\n<br/>\\n\\n</td>\\n</tr>\\n<tr>\\n<td>\\n다관절-암 생체현미경\\n\\n<br/>\\n\\n</td>\\n<td>\\n수술실 내부에서 수술 중인 환자 환부로 다관절-암을 이용하여 다양한 각도에서 접근이 가능하고 절개창으로 내시현미경 모듈을 이용하여 환부 내 깊은 부위에서 고해상도 이미징이 가능하도록 개발 중인 생체현미경\\n<br/>\\n\\n</td>\\n</tr>\\n<tr>\\n<td>\\nGMP\\n<br/>\\n\\n</td>\\n<td>\\n제약, 의료기기, 식품, 화장품 및 다른 여러 산업 분야에서 제품을 안전하게 제조하고 품질을 유지하기 위한 국제적 인증\\n<br/>\\n\\n</td>\\n</tr>\\n<tr>\\n<td>\\nFCC-EMC\\n<br/>\\n\\n</td>\\n<td>\\n미국 연방 통신 위원회(FCC)에서 규제하는 전자기적 상호 운용성 또는 전자기적 호환성에 관한 인증\\n<br/>\\n\\n</td>\\n</tr>\\n<tr>\\n<td>\\nIEC 61010\\n<br/>\\n\\n</td>\\n<td>\\n국제 전기기술 위원회(IEC)에서 제정한 규격 중 하나로 측정, 제어 및 실험실 사용을 위한 전기 장비에 대한 안전 요구 사항에 대한 인증\\n<br/>\\n\\n</td>\\n</tr>\\n<tr>\\n<td>\\nIEC 60825-1\\n<br/>\\n\\n</td>\\n<td>\\n국제 전기기술 위원회(IEC)에서 제정한 규격 중 하나로 레이저 제품의 안전성과 안전 사용에 관한 인증\\n<br/>\\n\\n</td>\\n</tr>\\n<tr>\\n<td>\\nIECEE\\n<br/>\\n\\n</td>\\n<td>\\n국제 전기기술 위원회(IEC)의 기관에서 제정한 규격 중 하나로 전기 및 전자 기술 분야의 제품 및 구성품에 대한 국제적으로 인정된 적합성 인증\\n<br/>\\n\\n</td>\\n</tr>\\n<tr>\\n<td>\\nUL\\n<br/>\\n\\n</td>\\n<td>\\n미국의 안전 테스팅 및 인증 기관(UL)에서 제정한 규격으로 다양한 제품의 안전성 및 성능평가에 관한 인증\\n<br/>\\n\\n</td>\\n</tr>\\n<tr>\\n<td>\\nIC\\n<br/>\\n\\n</td>\\n<td>\\n캐나다 내에서 무선 통신 및 전자 기기의 안전성, 호환성에 관한 인증\\n<br/>\\n\\n</td>\\n</tr>\\n<tr>\\n<td>\\nCE EMC\\n<br/>\\n\\n</td>\\n<td>\\n유럽연합(CE) 규정에 따라 전기기기와 전자 기기의 전자기적 상호 운용성 또는 전자기적 호환성에 관한 인증\\n<br/>\\n\\n</td>\\n</tr>\\n<tr>\\n<td>\\nCE LVD\\n<br/>\\n\\n</td>\\n<td>\\n유럽연합(CE)에서 적용되며 유럽 시장에 판매되는 전기 기기와 전자 기기의 저전압 안전에 대한 인증\\n<br/>\\n\\n</td>\\n</tr>\\n<tr>\\n<td>\\nETL\\n<br/>\\n\\n</td>\\n<td>\\n미국의 독립적인 시험 연구소(ETL)에서 수행하는 제품 안전 테스트 및 성능 평가에 관한 인증\\n<br/>\\n\\n</td>\\n</tr>\\n<tr>\\n<td>\\n&lt;\\n기술 관련&gt;\\n\\n<br/>\\n\\n</td>\\n</tr>\\n<tr>\\n<td>\\nMRI\\n<br/>\\n\\n</td>\\n<td>\\n자기 공명 영상 촬영(Magnetic Resonance Imaging, MRI)은 몸 속의 조직과 기관을 자세하게 시각화하기 위해 사용되는 의료 영상 촬영 기술\\n<br/>\\n\\n</td>\\n</tr>\\n<tr>\\n<td>\\nCT\\n<br/>\\n\\n</td>\\n<td>\\nCT (Computed Tomography),또는 컴퓨터 단층 촬영(Computerized Tomography)은 의료 영상 촬영 기술의 한 형태로, 몸의 내부 구조를 상세하게 시각화하는 데 사용\\n<br/>\\n\\n</td>\\n</tr>\\n<tr>\\n<td>\\n엑소좀\\n\\n<br/>\\n\\n</td>\\n<td>\\n엑소좀(Exosome)은 작은 크기의 미세한 소포체이며, 세포 내에서 생성되고 세포 간에 정보를 전달하는 데 사용되는 중요한 세포외 소포체\\n<br/>\\n\\n</td>\\n</tr>\\n<tr>\\n<td>\\n오가노이드\\n\\n<br/>\\n\\n</td>\\n<td>\\n오가노이드(Organoid)는 현실의 조직 또는 기관의 소형 모델로서 실험실에서 인공적으로 생성된3차원 구조체를 나타내며 주로 세포 및 조직 역학을 연구하고 질병 메커니즘을 이해하기 위해 사용\\n<br/>\\n\\n</td>\\n</tr>\\n<tr>\\n<td>\\n생체윈도우\\n\\n<br/>\\n\\n</td>\\n<td>\\n주로MRI (자기 공명 영상) 및NMR (핵자기공명) 분석과 같은 의료 및 생물학 연구 분야에서 사용되며, 생체 조\\n<br/>\\n\\n</td>\\n</tr>\\n<tr>\\n<td>\\nintravital imaging\\n<br/>\\n\\n</td>\\n<td>\\n\"생체 내 관찰\" 또는\"체내 관찰\"은 생물학 및 의학 연구에서 사용되는 기술로, 실시간으로 생체 내에서 일어나는 생물학적 과정을 시각화하고 연구하는 것을 의미\\n<br/>\\n\\n</td>\\n</tr>\\n<tr>\\n<td>\\n초고속 레이저 스캐닝 생체 영상화\\n\\n<br/>\\n\\n</td>\\n<td>\\n고속 회전 폴리곤 미러 기반의 스캐닝 방식을 적용하여 균일한 패턴의 안정된 초고속 레이저 스캐닝을 하는 기술\\n<br/>\\n\\n</td>\\n</tr>\\n<tr>\\n<td>\\n생체 생존 유지 및 장기간 영상화\\n\\n<br/>\\n\\n</td>\\n<td>\\n개발된 장비를 통해 영상획득 중인 동물 모델의 상태를 모니터링하며 장기간 생존을 유지시키는 기술\\n<br/>\\n\\n</td>\\n</tr>\\n<tr>\\n<td>\\n생체 이미징 윈도우 기술\\n\\n<br/>\\n\\n</td>\\n<td>\\n고품질 영상을 장기간에 걸쳐 획득하기 위한 최적화된 이미징 액세서리 키트의 고안 및 적절한 수술적 처치법\\n<br/>\\n\\n</td>\\n</tr>\\n<tr>\\n<td>\\n고성능 생체조직 모션 자동 보정 기술\\n\\n<br/>\\n\\n</td>\\n<td>\\n살아있는 동물의 심장박동과 호흡으로 인해 생기는 내부 장기와 조직의 움직임으로 인한 생체현미경 영상의 품질 저하를 극복하기 위한 기술\\n<br/>\\n\\n</td>\\n</tr>\\n<tr>\\n<td>\\n레이저 스캐닝\\n\\n<br/>\\n\\n</td>\\n<td>\\n레이저 빛을 사용하여 객체 또는 환경의 형상과 표면을 정확하게 측정하고 디지털 데이터로 변환하는 과정 또는 기술\\n<br/>\\n\\n</td>\\n</tr>\\n<tr>\\n<td>\\nMicro-Suction\\n<br/>\\n\\n</td>\\n<td>\\n미세한 표면에서 먼지, 먼지, 또는 다른 미립자를 제거하기 위해 사용되는 기술 또는 방법\\n<br/>\\n\\n</td>\\n</tr>\\n<tr>\\n<td>\\n동결절편분석\\n\\n<br/>\\n\\n</td>\\n<td>\\n수술 중에 조직 샘플을 신속하게 평가하기 위한 병리학적 절차로서 수술 중에 조직 샘플을 추출한 후 냉동하여 얇은 조직 절편(슬라이드)을 만들고, 이 절편을 현미경 아래에서 병리학적으로 조사하여 종양 여부나 질병의 본질을 판단하는 데 사용\\n<br/>\\n\\n</td>\\n</tr>\\n<tr>\\n<td>\\nH&amp;E\\n염색\\n\\n<br/>\\n\\n</td>\\n<td>\\n조직학 연구 및 병리학적 분석에서 가장 일반적으로 사용되는 염색 기술 중 하나로서hematoxylin과eosin 염료를 이용하여 조직 내 세포의 핵과 세포질을 염색하여 조직절편의 병리병태학적 관찰하는 방법\\n<br/>\\n\\n</td>\\n</tr>\\n<tr>\\n<td>\\n&lt;\\n시장 관련&gt;\\n\\n<br/>\\n\\n</td>\\n</tr>\\n<tr>\\n<td>\\n공초점 현미경\\n\\n<br/>\\n\\n(confocal microscopy)\\n<br/>\\n\\n</td>\\n<td>\\n빛을 이용하여 작은 물체를 확대하고 관찰하는데 사용되는 광학 장비로서 두 개의 렌즈를 사용하여 물체를 확대하며, 물체와 렌즈 간의 일정한 거리를 유지하여 관찰할 수 있는 장비\\n<br/>\\n\\n</td>\\n</tr>\\n<tr>\\n<td>\\n이광자 현미경\\n\\n<br/>\\n\\n(Two-Photon Microscopy)\\n<br/>\\n\\n</td>\\n<td>\\n형광신호를 생성하는 과정에서2개의 광자(Two photon)가 동시에 형광분자로 흡수되어 형광분자를 여기(xcitation)시키도록 하여 레이저를 샘플 내부로 조사 하고 스캐닝하여 형광신호를 획득 및 이미징을 구현하는 장비\\n<br/>\\n\\n</td>\\n</tr>\\n<tr>\\n<td>\\n전임상 연구\\n\\n<br/>\\n\\n</td>\\n<td>\\n주로 실험실험에서 동물 모델이나 세포 모델을 사용하여 새로운 의약품, 치료법, 또는 의료 기술의 개발 초기 단계에서 이루어지는 연구\\n<br/>\\n\\n</td>\\n</tr>\\n<tr>\\n<td>\\n비임상시험\\n\\n<br/>\\n\\n</td>\\n<td>\\n전임상 연구 결과를 기반으로 의약품 또는 치료법이 인간 환자에게 적용되기 전에 안전성 및 효과를 더 자세히 평가하기 위해 수행되는 시험으로 주로 동물 모델을 사용하며, 인간 환자 대신 동물을 대상으로 의약품 또는 치료법을 시험\\n<br/>\\n\\n</td>\\n</tr>\\n<tr>\\n<td>\\n광학 이미징(Optical Imaging)\\n\\n<br/>\\n\\n</td>\\n<td>\\n광학 기술을 사용하여 대상의 이미지를 생성하고 분석하는 과학 및 기술 분야\\n<br/>\\n\\n</td>\\n</tr>\\n<tr>\\n<td>\\nIACUC\\n<br/>\\n\\n</td>\\n<td>\\n실험과 연구 교육의 목적으로 사용하는 동물을 인도적으로 사용하고 관리하는지 심의하는 해당 동물실험 시행기관의 자체 운영위원회\\n<br/>\\n\\n</td>\\n</tr>\\n<tr>\\n<td>\\nIRB\\n<br/>\\n\\n</td>\\n<td>\\n임상연구에 참여하는 연구대상자의 권리.안전.복지를 위하여 인간을 대상으로 하는 모든 생명의과학연구의 윤리적, 과학적 측면을 심의하여 연구계획을 승인할 수 있는 독립된 합의체 의결기구\\n<br/>\\n\\n</td>\\n</tr>\\n<tr>\\n<td>\\n치료 표적 발굴\\n\\n<br/>\\n\\n</td>\\n<td>\\n의학 및 약물 개발 분야에서 특정 질환 또는 의료 상태를 치료하기 위한 분자, 단백질, 생물학적 과정, 또는 유전자와 같은 타깃을 식별하고 선택하는 과정을 의미\\n<br/>\\n\\n</td>\\n</tr>\\n<tr>\\n<td>\\n병태생리학\\n\\n<br/>\\n\\n</td>\\n<td>\\n질환 또는 병태 상태가 어떻게 발생하고, 이러한 상태가 생체 내에서 어떻게 기능과 구조를 변화시키는지 연구하는 의학 및 생물학 분야의 하위 분야\\n<br/>\\n\\n</td>\\n</tr>\\n</tbody>\\n</table>\\n'"
      ]
     },
     "execution_count": 11,
     "metadata": {},
     "output_type": "execute_result"
    }
   ],
   "source": [
    "df['table'][2][0]"
   ]
  },
  {
   "cell_type": "code",
   "execution_count": 12,
   "metadata": {},
   "outputs": [
    {
     "data": {
      "text/html": [
       "<div>\n",
       "<style scoped>\n",
       "    .dataframe tbody tr th:only-of-type {\n",
       "        vertical-align: middle;\n",
       "    }\n",
       "\n",
       "    .dataframe tbody tr th {\n",
       "        vertical-align: top;\n",
       "    }\n",
       "\n",
       "    .dataframe thead th {\n",
       "        text-align: right;\n",
       "    }\n",
       "</style>\n",
       "<table border=\"1\" class=\"dataframe\">\n",
       "  <thead>\n",
       "    <tr style=\"text-align: right;\">\n",
       "      <th></th>\n",
       "      <th>text</th>\n",
       "      <th>table</th>\n",
       "    </tr>\n",
       "  </thead>\n",
       "  <tbody>\n",
       "    <tr>\n",
       "      <th>0</th>\n",
       "      <td>II. 사업의 내용\\n1. 사업의 개요\\n회사가 영위하고 있는 사업부문은 엔터테인먼...</td>\n",
       "      <td>[&lt;table&gt;\\n&lt;colgroup&gt;\\n&lt;col/&gt;\\n&lt;col/&gt;\\n&lt;col/&gt;\\n...</td>\n",
       "    </tr>\n",
       "    <tr>\n",
       "      <th>1</th>\n",
       "      <td>II. 사업의 내용\\n1. 사업의 개요\\n당사는 2000년 이방성전도필름 (ACF,...</td>\n",
       "      <td>[(단위 : 천원)\\n&lt;table&gt;\\n&lt;colgroup&gt;\\n&lt;col/&gt;\\n&lt;col/...</td>\n",
       "    </tr>\n",
       "    <tr>\n",
       "      <th>2</th>\n",
       "      <td>II. 사업의 내용\\n1. 사업의 개요\\n당사의 사업의 개요에 앞서, 전문용어와 축...</td>\n",
       "      <td>[&lt;table&gt;\\n&lt;colgroup&gt;\\n&lt;col/&gt;\\n&lt;col/&gt;\\n&lt;/colgro...</td>\n",
       "    </tr>\n",
       "    <tr>\n",
       "      <th>3</th>\n",
       "      <td>II. 사업의 내용\\n1. 사업의 개요\\n당사는1997년 창사이래로(법인전환2003...</td>\n",
       "      <td>[]</td>\n",
       "    </tr>\n",
       "    <tr>\n",
       "      <th>4</th>\n",
       "      <td>II. 사업의 내용\\n1. 사업의 개요\\n당사는 첨단바이오의약품의 핵심 소재인 세포...</td>\n",
       "      <td>[]</td>\n",
       "    </tr>\n",
       "    <tr>\n",
       "      <th>...</th>\n",
       "      <td>...</td>\n",
       "      <td>...</td>\n",
       "    </tr>\n",
       "    <tr>\n",
       "      <th>2680</th>\n",
       "      <td>II. 사업의 내용\\n1. 사업의 개요\\n당사는 의약품, 화학약품, 공업약품, 수의...</td>\n",
       "      <td>[]</td>\n",
       "    </tr>\n",
       "    <tr>\n",
       "      <th>2681</th>\n",
       "      <td>II. 사업의 내용\\n1. 사업의 개요\\n가. 사업부문별 종속회사 현황 (요약)\\n...</td>\n",
       "      <td>[(단위 : 사)\\n&lt;table&gt;\\n&lt;colgroup&gt;\\n&lt;col/&gt;\\n&lt;col/&gt;...</td>\n",
       "    </tr>\n",
       "    <tr>\n",
       "      <th>2682</th>\n",
       "      <td>II. 사업의 내용\\n1. 사업의 개요\\n당사는 각종 사류, 직물류의 생산, 판매를...</td>\n",
       "      <td>[&lt;table&gt;\\n&lt;colgroup&gt;\\n&lt;col/&gt;\\n&lt;col/&gt;\\n&lt;/colgro...</td>\n",
       "    </tr>\n",
       "    <tr>\n",
       "      <th>2683</th>\n",
       "      <td>II. 사업의 내용\\n※ 예측정보에 대한 주의사항당사가 동 보고서에서 미래에 발생할...</td>\n",
       "      <td>[&lt;table&gt;\\n&lt;colgroup&gt;\\n&lt;col/&gt;\\n&lt;col/&gt;\\n&lt;col/&gt;\\n...</td>\n",
       "    </tr>\n",
       "    <tr>\n",
       "      <th>2684</th>\n",
       "      <td>II. 사업의 내용\\n1. 사업의 개요\\n당사는 다른회사의 주식을 소유함으로써 그 ...</td>\n",
       "      <td>[(단위 : 백만원)\\n&lt;table&gt;\\n&lt;colgroup&gt;\\n&lt;col/&gt;\\n&lt;col...</td>\n",
       "    </tr>\n",
       "  </tbody>\n",
       "</table>\n",
       "<p>2685 rows × 2 columns</p>\n",
       "</div>"
      ],
      "text/plain": [
       "                                                   text  \\\n",
       "0     II. 사업의 내용\\n1. 사업의 개요\\n회사가 영위하고 있는 사업부문은 엔터테인먼...   \n",
       "1     II. 사업의 내용\\n1. 사업의 개요\\n당사는 2000년 이방성전도필름 (ACF,...   \n",
       "2     II. 사업의 내용\\n1. 사업의 개요\\n당사의 사업의 개요에 앞서, 전문용어와 축...   \n",
       "3     II. 사업의 내용\\n1. 사업의 개요\\n당사는1997년 창사이래로(법인전환2003...   \n",
       "4     II. 사업의 내용\\n1. 사업의 개요\\n당사는 첨단바이오의약품의 핵심 소재인 세포...   \n",
       "...                                                 ...   \n",
       "2680  II. 사업의 내용\\n1. 사업의 개요\\n당사는 의약품, 화학약품, 공업약품, 수의...   \n",
       "2681  II. 사업의 내용\\n1. 사업의 개요\\n가. 사업부문별 종속회사 현황 (요약)\\n...   \n",
       "2682  II. 사업의 내용\\n1. 사업의 개요\\n당사는 각종 사류, 직물류의 생산, 판매를...   \n",
       "2683  II. 사업의 내용\\n※ 예측정보에 대한 주의사항당사가 동 보고서에서 미래에 발생할...   \n",
       "2684  II. 사업의 내용\\n1. 사업의 개요\\n당사는 다른회사의 주식을 소유함으로써 그 ...   \n",
       "\n",
       "                                                  table  \n",
       "0     [<table>\\n<colgroup>\\n<col/>\\n<col/>\\n<col/>\\n...  \n",
       "1     [(단위 : 천원)\\n<table>\\n<colgroup>\\n<col/>\\n<col/...  \n",
       "2     [<table>\\n<colgroup>\\n<col/>\\n<col/>\\n</colgro...  \n",
       "3                                                    []  \n",
       "4                                                    []  \n",
       "...                                                 ...  \n",
       "2680                                                 []  \n",
       "2681  [(단위 : 사)\\n<table>\\n<colgroup>\\n<col/>\\n<col/>...  \n",
       "2682  [<table>\\n<colgroup>\\n<col/>\\n<col/>\\n</colgro...  \n",
       "2683  [<table>\\n<colgroup>\\n<col/>\\n<col/>\\n<col/>\\n...  \n",
       "2684  [(단위 : 백만원)\\n<table>\\n<colgroup>\\n<col/>\\n<col...  \n",
       "\n",
       "[2685 rows x 2 columns]"
      ]
     },
     "execution_count": 12,
     "metadata": {},
     "output_type": "execute_result"
    }
   ],
   "source": [
    "df"
   ]
  },
  {
   "cell_type": "code",
   "execution_count": 30,
   "metadata": {},
   "outputs": [],
   "source": [
    "df.to_csv('final.csv', index=False)"
   ]
  },
  {
   "cell_type": "code",
   "execution_count": 24,
   "metadata": {},
   "outputs": [],
   "source": [
    "lens = []\n",
    "for row in df.itertuples():\n",
    "        if row.table!= []:\n",
    "            for table in row.table:\n",
    "                    lens.append(len(table))\n",
    "\n"
   ]
  },
  {
   "cell_type": "code",
   "execution_count": 29,
   "metadata": {},
   "outputs": [
    {
     "data": {
      "image/png": "[encoded data removed]",
      "text/plain": [
       "<Figure size 640x480 with 1 Axes>"
      ]
     },
     "metadata": {},
     "output_type": "display_data"
    },
    {
     "name": "stdout",
     "output_type": "stream",
     "text": [
      "231\n",
      "5518\n"
     ]
    },
    {
     "data": {
      "image/png": "[encoded data removed]",
      "text/plain": [
       "<Figure size 640x480 with 1 Axes>"
      ]
     },
     "metadata": {},
     "output_type": "display_data"
    }
   ],
   "source": [
    "# hist lens under 2048\n",
    "lens1 = [l for l in lens if l < 2048]\n",
    "import matplotlib.pyplot as plt\n",
    "plt.hist(lens1, bins=100)\n",
    "plt.show()\n",
    "\n",
    "# hist lens over 2048\n",
    "lens2 = [l for l in lens if l >= 2048]\n",
    "import matplotlib.pyplot as plt\n",
    "plt.hist(lens2, bins=100)\n",
    "#sum of lens count over 2048\n",
    "print(sum([l >= 2048 for l in lens]))\n",
    "print(len(lens))\n",
    "\n",
    "\n"
   ]
  }
 ],
 "metadata": {
  "kernelspec": {
   "display_name": ".venv",
   "language": "python",
   "name": "python3"
  },
  "language_info": {
   "codemirror_mode": {
    "name": "ipython",
    "version": 3
   },
   "file_extension": ".py",
   "mimetype": "text/x-python",
   "name": "python",
   "nbconvert_exporter": "python",
   "pygments_lexer": "ipython3",
   "version": "3.12.2"
  }
 },
 "nbformat": 4,
 "nbformat_minor": 2
}
